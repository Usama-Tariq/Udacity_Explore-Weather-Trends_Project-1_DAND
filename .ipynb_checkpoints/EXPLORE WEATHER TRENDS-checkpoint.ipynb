{
 "cells": [
  {
   "cell_type": "markdown",
   "metadata": {
    "slideshow": {
     "slide_type": "slide"
    }
   },
   "source": [
    "![Lahore](./images/l1.jpg)"
   ]
  },
  {
   "cell_type": "markdown",
   "metadata": {
    "slideshow": {
     "slide_type": "slide"
    }
   },
   "source": [
    "# OVERVIEW\n",
    "Local temperature ($C^\\circ$) data of Lahore (LHR), the city of gardens -located in the north-\n",
    "eastern portion of Pakistan (PK), is analyzed, and compared with the global\n",
    "temperature ($C^\\circ$) data. I accessed the Client’s, Udacity-Advance Your Career,\n",
    "database to extract the required data, manipulate, visualize, and interpret valuable\n",
    "insights from data for better and concrete decision making."
   ]
  },
  {
   "cell_type": "markdown",
   "metadata": {
    "slideshow": {
     "slide_type": "slide"
    }
   },
   "source": [
    "## Goals\n",
    "- Extract the data from the database, transform it into comma-separated values (CSV) file.\n",
    "- Load the CSV file for analysis.\n",
    "- Visualize and compare the local and global temperature data.\n",
    "- Identify the trends of the local and global temperature data.\n",
    "\n",
    "## Tools\n",
    "- `SQL:` for extraction of the data from the database\n",
    "- `Jupyter Notebook:` as IDE for Python & Pandas\n",
    "- `Pandas:` for loading the CSV file for analysis.\n",
    "- `Python:` to visualize and compare the local and global temperature data.\n",
    "- `Microsoft Office 365:` interpreting the insights of data and share valuable results in the form of\n",
    "a report."
   ]
  },
  {
   "cell_type": "markdown",
   "metadata": {
    "slideshow": {
     "slide_type": "slide"
    }
   },
   "source": [
    "# EXTRACT THE DATA\n",
    "\n",
    "## Finding the Closest Big City\n",
    "One the basis of my SQL expertise, I wrote the following query to find the closest city listed in the cities\n",
    "of the Pakistan. And I found my own city in the database.\n",
    "\n",
    "```sql\n",
    "select *\n",
    "from city_list\n",
    "where country = 'Pakistan';\n",
    "```\n",
    "\n",
    "Above query’s results were\n",
    "\n",
    "city | country\n",
    "--- | ---\n",
    "Faisalabad | Pakistan\n",
    "Gujranwala | Pakistan\n",
    "Hyderabad | Pakistan\n",
    "Islamabad | Pakistan\n",
    "Karachi | Pakistan\n",
    "Lahore | Pakistan\n",
    "Multan | Pakistan\n",
    "Peshawar | Pakistan\n",
    "Rawalpindi | Pakistan"
   ]
  },
  {
   "cell_type": "markdown",
   "metadata": {
    "slideshow": {
     "slide_type": "subslide"
    }
   },
   "source": [
    "## Extracting City Level data\n",
    "For city-level data, the city I select is Lahore, Pakistan. The query used to extract the whole data for\n",
    "‘Lahore’ is listed below.\n",
    "\n",
    "```sql\n",
    "select *\n",
    "from city_data\n",
    "where city='Lahore';\n",
    "```\n",
    "\n",
    "And the results for this query were like,\n",
    "![](./images/sql-city.jpg)\n",
    "\n",
    "Although the number of records is limited to 198, but its burdensome to show the full data."
   ]
  },
  {
   "cell_type": "markdown",
   "metadata": {
    "slideshow": {
     "slide_type": "subslide"
    }
   },
   "source": [
    "## Extracting Global Level data\n",
    "\n",
    "Query for retrieving the global level data, \n",
    "\n",
    "```sql\n",
    "select *\n",
    "from global_data;\n",
    "```\n",
    "\n",
    "This query yielded 266 number of records as a global-level data.\n",
    "![](./images/sql-global.jpg)\n",
    "\n",
    "Finally, the required data for the analysis has been extracted and transformed successfully. In the upcoming step, the data will be load for analysis.\n",
    "\n"
   ]
  },
  {
   "cell_type": "markdown",
   "metadata": {},
   "source": []
  },
  {
   "cell_type": "markdown",
   "metadata": {},
   "source": []
  },
  {
   "cell_type": "markdown",
   "metadata": {},
   "source": []
  },
  {
   "cell_type": "markdown",
   "metadata": {},
   "source": []
  },
  {
   "cell_type": "markdown",
   "metadata": {},
   "source": []
  },
  {
   "cell_type": "markdown",
   "metadata": {},
   "source": []
  },
  {
   "cell_type": "markdown",
   "metadata": {},
   "source": []
  },
  {
   "cell_type": "markdown",
   "metadata": {},
   "source": []
  },
  {
   "cell_type": "markdown",
   "metadata": {},
   "source": []
  },
  {
   "cell_type": "markdown",
   "metadata": {},
   "source": []
  },
  {
   "cell_type": "markdown",
   "metadata": {},
   "source": []
  },
  {
   "cell_type": "markdown",
   "metadata": {},
   "source": []
  },
  {
   "cell_type": "markdown",
   "metadata": {},
   "source": []
  }
 ],
 "metadata": {
  "kernelspec": {
   "display_name": "Python 3",
   "language": "python",
   "name": "python3"
  },
  "language_info": {
   "codemirror_mode": {
    "name": "ipython",
    "version": 3
   },
   "file_extension": ".py",
   "mimetype": "text/x-python",
   "name": "python",
   "nbconvert_exporter": "python",
   "pygments_lexer": "ipython3",
   "version": "3.7.4"
  }
 },
 "nbformat": 4,
 "nbformat_minor": 2
}
